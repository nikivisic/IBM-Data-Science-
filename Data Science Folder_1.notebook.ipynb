{
  "metadata": {
    "language_info": {
      "codemirror_mode": {
        "name": "python",
        "version": 3
      },
      "file_extension": ".py",
      "mimetype": "text/x-python",
      "name": "python",
      "nbconvert_exporter": "python",
      "pygments_lexer": "ipython3",
      "version": "3.8"
    },
    "kernelspec": {
      "name": "python",
      "display_name": "Python (Pyodide)",
      "language": "python"
    }
  },
  "nbformat_minor": 4,
  "nbformat": 4,
  "cells": [
    {
      "cell_type": "code",
      "source": "#MarkDown example\nThis is my markdown cell\n",
      "metadata": {},
      "execution_count": null,
      "outputs": []
    },
    {
      "cell_type": "code",
      "source": "## Introduction\n\nIn this notebook, we will explore various data science concepts and techniques. Data science is a fascinating field that combines mathematics, statistics, programming, and domain knowledge to extract valuable insights from data. We'll cover different topics, including data science languages, libraries, and tools.\n",
      "metadata": {},
      "execution_count": null,
      "outputs": []
    },
    {
      "cell_type": "code",
      "source": "## Data Science Languages\n\n- Python\n- R\n- Julia\n- SQL\n- SAS\n- Scala\n",
      "metadata": {},
      "execution_count": null,
      "outputs": []
    },
    {
      "cell_type": "code",
      "source": "## Data Science Libraries\n\n- NumPy\n- Pandas\n- Matplotlib\n- Seaborn\n- Scikit-Learn\n- TensorFlow\n- PyTorch\n- Keras\n",
      "metadata": {},
      "execution_count": null,
      "outputs": []
    },
    {
      "cell_type": "code",
      "source": "## Data Science Tools\n\n| Tool         | Description                                   |\n|-------------- |-----------------------------------------------|\n| Jupyter Notebooks | Interactive computing and documentation |\n| RStudio      | IDE for R programming                         |\n| Tableau      | Data visualization and analytics              |\n| Excel        | Spreadsheet software with data analysis tools |\n| Apache Spark | Distributed data processing                  |\n| SQL          | Database query language                       |\n",
      "metadata": {},
      "execution_count": null,
      "outputs": []
    },
    {
      "cell_type": "code",
      "source": "## Arithmetic Expressions\n\nLet's explore some basic arithmetic expressions. We'll cover addition, multiplication, and division. These are fundamental operations that you might encounter in data analysis and programming.\n",
      "metadata": {},
      "execution_count": null,
      "outputs": []
    },
    {
      "cell_type": "code",
      "source": "# Multiply and Add\nresult = 5 * 3 + 2\nresult\n",
      "metadata": {},
      "execution_count": null,
      "outputs": []
    },
    {
      "cell_type": "code",
      "source": "# Convert Minutes to Hours\nminutes = 120\nhours = minutes / 60\nhours\n",
      "metadata": {},
      "execution_count": null,
      "outputs": []
    },
    {
      "cell_type": "code",
      "source": "## Objectives\n\nIn this notebook, we aim to achieve the following objectives:\n\n1. Explore key data science languages and libraries.\n2. Understand basic arithmetic operations.\n3. Convert units of time.\n4. Provide an introduction to data science tools and concepts.\n",
      "metadata": {},
      "execution_count": null,
      "outputs": []
    },
    {
      "cell_type": "code",
      "source": "## Author\n\n- [Niki Visic](https://github.com/nikivisic)\n",
      "metadata": {},
      "execution_count": null,
      "outputs": []
    }
  ]
}